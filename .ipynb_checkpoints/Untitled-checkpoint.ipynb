{
 "cells": [
  {
   "cell_type": "code",
   "execution_count": 40,
   "metadata": {},
   "outputs": [],
   "source": [
    "import torch\n",
    "import torch.nn as nn\n",
    "from model.siamesePointnet import SiamesePointNet\n",
    "fc4 = nn.Linear(64, 2)"
   ]
  },
  {
   "cell_type": "code",
   "execution_count": 41,
   "metadata": {},
   "outputs": [
    {
     "name": "stdout",
     "output_type": "stream",
     "text": [
      "tensor([[-0.0623,  0.1024],\n",
      "        [-0.0623,  0.1024]], grad_fn=<ThAddmmBackward>)\n",
      "tensor([[-0.0623,  0.1024],\n",
      "        [-0.0623,  0.1024]], grad_fn=<ThAddmmBackward>)\n"
     ]
    }
   ],
   "source": [
    "a = torch.rand((2, 3, 20))\n",
    "b = torch.rand((2, 3, 20))\n",
    "c = torch.cat((a,b))\n",
    "\n",
    "\n",
    "net = SiamesePointNet(feature_transform=False)\n",
    "net.eval()\n",
    "o1 = net(c)\n",
    "o21 = net.separate(a)\n",
    "o22 = net.separate(a)\n",
    "div_pos = len(o21)\n",
    "x = torch.abs(o21 - o22)\n",
    "x = net.fc4(x)  # used for classification (either similar or not)\n",
    "print(o1)\n",
    "print(x)"
   ]
  },
  {
   "cell_type": "code",
   "execution_count": 42,
   "metadata": {},
   "outputs": [
    {
     "name": "stdout",
     "output_type": "stream",
     "text": [
      "tensor([[0.7250, 0.6182, 0.9797, 0.4129, 0.6612],\n",
      "        [0.4743, 0.4430, 0.4967, 0.3036, 0.1291],\n",
      "        [0.1521, 0.6564, 0.5157, 0.1940, 0.7013]])\n"
     ]
    },
    {
     "data": {
      "text/plain": [
       "tensor([[0.7250, 0.6182, 0.4967, 0.1940, 0.1291]])"
      ]
     },
     "execution_count": 42,
     "metadata": {},
     "output_type": "execute_result"
    }
   ],
   "source": [
    "import torch\n",
    "a = torch.rand(3,5)\n",
    "print(a)\n",
    "b = torch.tensor([0,0,1,2,1]).view((1,5))\n",
    "torch.gather(a, dim=0, index=b)"
   ]
  },
  {
   "cell_type": "code",
   "execution_count": 43,
   "metadata": {},
   "outputs": [],
   "source": [
    "\n",
    "import torch\n",
    "import numpy as np\n",
    "from open3d import *\n",
    "def generate_cube(N, scale, move, rotation):\n",
    "    \"\"\"\n",
    "    Generate point cloud from the standard cube\n",
    "    Acheive this by firstly fix one dim to be 0 or 1, and\n",
    "    generate the other two dims by uniform sampling in [0,1]\n",
    "    resulting shape: 1x3xN\n",
    "    input: scale -- scalar\n",
    "           move  -- vector of size 3\n",
    "           rotation  -- 3x3 matrix\n",
    "    \"\"\"    \n",
    "    pc = []\n",
    "    for i in range(N):\n",
    "        # firstly randomly select one dim to set to 0 or 1\n",
    "        dim_1 = np.random.randint(low=0, high=3)\n",
    "        val = np.random.uniform(low=0, high=1, size=3)\n",
    "        val_1 = np.random.choice([0,1])\n",
    "        val[dim_1] = val_1\n",
    "        pc.append(val)\n",
    "    # pc is of shape Nx3 now\n",
    "    # scale, rotate and move each point\n",
    "    pc = np.array(pc)\n",
    "    # before rotation, center to origin\n",
    "    pc = pc - 0.5\n",
    "    # scale up\n",
    "    pc = scale * pc\n",
    "    # rotate\n",
    "    pc = pc @ rotation\n",
    "    # move\n",
    "    pc = pc + move\n",
    "    pc = pc.T\n",
    "    return pc\n",
    "\n",
    "        \n"
   ]
  },
  {
   "cell_type": "code",
   "execution_count": 44,
   "metadata": {
    "collapsed": true
   },
   "outputs": [],
   "source": [
    "import math\n",
    "def rotation_matrix(axis, theta):\n",
    "    \"\"\"\n",
    "    Return the rotation matrix associated with counterclockwise rotation about\n",
    "    the given axis by theta radians.\n",
    "    \"\"\"\n",
    "    axis = np.asarray(axis)\n",
    "    axis = axis / math.sqrt(np.dot(axis, axis))\n",
    "    a = math.cos(theta / 2.0)\n",
    "    b, c, d = -axis * math.sin(theta / 2.0)\n",
    "    aa, bb, cc, dd = a * a, b * b, c * c, d * d\n",
    "    bc, ad, ac, ab, bd, cd = b * c, a * d, a * c, a * b, b * d, c * d\n",
    "    return np.array([[aa + bb - cc - dd, 2 * (bc + ad), 2 * (bd - ac)],\n",
    "                     [2 * (bc - ad), aa + cc - bb - dd, 2 * (cd + ab)],\n",
    "                     [2 * (bd + ac), 2 * (cd - ab), aa + dd - bb - cc]])"
   ]
  },
  {
   "cell_type": "code",
   "execution_count": 45,
   "metadata": {},
   "outputs": [
    {
     "ename": "RuntimeError",
     "evalue": "Unable to cast Python instance to C++ type (compile in debug mode for details)",
     "output_type": "error",
     "traceback": [
      "\u001b[0;31m---------------------------------------------------------------------------\u001b[0m",
      "\u001b[0;31mRuntimeError\u001b[0m                              Traceback (most recent call last)",
      "\u001b[0;32m<ipython-input-45-14485070fd66>\u001b[0m in \u001b[0;36m<module>\u001b[0;34m\u001b[0m\n\u001b[1;32m      9\u001b[0m \u001b[0mu\u001b[0m \u001b[0;34m=\u001b[0m \u001b[0mnp\u001b[0m\u001b[0;34m.\u001b[0m\u001b[0mmean\u001b[0m\u001b[0;34m(\u001b[0m\u001b[0mD\u001b[0m\u001b[0;34m,\u001b[0m \u001b[0maxis\u001b[0m\u001b[0;34m=\u001b[0m\u001b[0;36m0\u001b[0m\u001b[0;34m)\u001b[0m\u001b[0;34m\u001b[0m\u001b[0m\n\u001b[1;32m     10\u001b[0m \u001b[0mpcd\u001b[0m \u001b[0;34m=\u001b[0m \u001b[0mPointCloud\u001b[0m\u001b[0;34m(\u001b[0m\u001b[0;34m)\u001b[0m\u001b[0;34m\u001b[0m\u001b[0m\n\u001b[0;32m---> 11\u001b[0;31m \u001b[0mpcd\u001b[0m\u001b[0;34m.\u001b[0m\u001b[0mpoints\u001b[0m \u001b[0;34m=\u001b[0m \u001b[0mVector3dVector\u001b[0m\u001b[0;34m(\u001b[0m\u001b[0mD\u001b[0m\u001b[0;34m)\u001b[0m\u001b[0;34m\u001b[0m\u001b[0m\n\u001b[0m\u001b[1;32m     12\u001b[0m \u001b[0;31m#draw_geometries([pcd])\u001b[0m\u001b[0;34m\u001b[0m\u001b[0;34m\u001b[0m\u001b[0m\n\u001b[1;32m     13\u001b[0m \u001b[0mvis\u001b[0m \u001b[0;34m=\u001b[0m \u001b[0mJVisualizer\u001b[0m\u001b[0;34m(\u001b[0m\u001b[0;34m)\u001b[0m\u001b[0;34m\u001b[0m\u001b[0m\n",
      "\u001b[0;31mRuntimeError\u001b[0m: Unable to cast Python instance to C++ type (compile in debug mode for details)"
     ]
    }
   ],
   "source": [
    "\n",
    "R = rotation_matrix([0,0,1], 1.2)\n",
    "\n",
    "scale = 0.5\n",
    "move = np.array([0.,0.,2.])\n",
    "D = generate_cube(1400, scale=scale, move=move, rotation=R)\n",
    "D = np.array(D).T\n",
    "# append zero to z dimension\n",
    "u = np.mean(D, axis=0)\n",
    "pcd = PointCloud()\n",
    "pcd.points = Vector3dVector(D)\n",
    "#draw_geometries([pcd])\n",
    "vis = JVisualizer()\n",
    "#vis = Visualizer()\n",
    "#vis.create_window()\n",
    "vis.add_geometry(pcd)\n",
    "vis.show()\n",
    "#vis.run()\n",
    "#depth = vis.capture_screen_float_buffer()\n",
    "#plt.imsave(out_folder+'obc'+str(i)+'.png', np.asarray(depth), dpi=1)\n",
    "#vis.destroy_window()"
   ]
  },
  {
   "cell_type": "code",
   "execution_count": null,
   "metadata": {
    "collapsed": true
   },
   "outputs": [],
   "source": [
    "\"\"\"\n",
    "data generator\n",
    "\"\"\""
   ]
  }
 ],
 "metadata": {
  "kernelspec": {
   "display_name": "Python 3",
   "language": "python",
   "name": "python3"
  },
  "language_info": {
   "codemirror_mode": {
    "name": "ipython",
    "version": 3
   },
   "file_extension": ".py",
   "mimetype": "text/x-python",
   "name": "python",
   "nbconvert_exporter": "python",
   "pygments_lexer": "ipython3",
   "version": "3.5.2"
  }
 },
 "nbformat": 4,
 "nbformat_minor": 2
}
