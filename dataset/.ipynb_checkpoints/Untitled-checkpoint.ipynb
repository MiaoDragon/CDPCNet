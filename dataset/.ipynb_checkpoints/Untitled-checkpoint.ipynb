{
 "cells": [
  {
   "cell_type": "code",
   "execution_count": 1,
   "metadata": {},
   "outputs": [
    {
     "name": "stdout",
     "output_type": "stream",
     "text": [
      "***  klampt.vis: using Qt5 as the visualization backend  ***\n"
     ]
    },
    {
     "name": "stderr",
     "output_type": "stream",
     "text": [
      "/Users/dd/anaconda/lib/python3.5/site-packages/pythreejs/traits.py:177: UserWarning: 64-bit data types not supported for WebGL data, casting to 32-bit.\n",
      "  warnings.warn('64-bit data types not supported for WebGL '\n"
     ]
    },
    {
     "data": {
      "application/vnd.jupyter.widget-view+json": {
       "model_id": "1f5e7f903cfb4d579799c6d64cdc2532",
       "version_major": 2,
       "version_minor": 0
      },
      "text/plain": [
       "Renderer(camera=PerspectiveCamera(aspect=1.6, fov=90.0, position=(-0.011409048109720992, 0.46406154798582466, …"
      ]
     },
     "metadata": {},
     "output_type": "display_data"
    },
    {
     "data": {
      "application/vnd.jupyter.widget-view+json": {
       "model_id": "20e69678044a4b02b722fab60044c65d",
       "version_major": 2,
       "version_minor": 0
      },
      "text/plain": [
       "HBox(children=(Label(value='Point size:'), FloatSlider(value=0.07476086932667013, max=0.7476086932667013, step…"
      ]
     },
     "metadata": {},
     "output_type": "display_data"
    }
   ],
   "source": [
    "from geometry_util import *\n",
    "import numpy as np\n",
    "import klampt\n",
    "import open3d\n",
    "from klampt import vis as klvis\n",
    "import time\n",
    "import pandas as pd\n",
    "from pyntcloud import PyntCloud\n",
    "def visualize(pcs):\n",
    "    # visualize point cloud list\n",
    "    pcd_list = []\n",
    "    for pc in pcs:\n",
    "        pcd = open3d.PointCloud()\n",
    "        pcd.points = open3d.Vector3dVector(pc.T)\n",
    "        pcd_list.append(pcd)\n",
    "    vis = open3d.Visualizer()\n",
    "    vis.create_window()\n",
    "    for pcd in pcd_list:\n",
    "        vis.add_geometry(pcd)\n",
    "    vis.run()\n",
    "    vis.destroy_window()\n",
    "N = 2800\n",
    "pert_ratio = 0.1\n",
    "# ******generate collision data******\n",
    "# randomly select ball or cube, but only move a little relatively\n",
    "geo_type = np.random.randint(low=0, high=2)\n",
    "rotation_axis1 = np.random.normal(size=3)\n",
    "rotation_axis1 = rotation_axis1 / np.linalg.norm(rotation_axis1)\n",
    "rad1 = np.random.uniform(low=-np.pi, high=np.pi)\n",
    "R1 = rotation_matrix(rotation_axis1, rad1)\n",
    "scale1 = np.random.uniform(low=0.5, high=1.5)\n",
    "move_d1 = np.random.normal(size=3)\n",
    "move_d1 = move_d1 / np.linalg.norm(move_d1)\n",
    "move_s1 = np.random.uniform(low=0., high=10.)\n",
    "move1 = move_d1 * move_s1\n",
    "if geo_type == 0:\n",
    "    P1 = generate_cube(N, scale1, move1, R1)\n",
    "    P1_solid = generate_solid_cube(4*N, scale1, move1, R1)\n",
    "else:\n",
    "    P1 = generate_ball(N, scale1, move1)\n",
    "    P1_solid = generate_solid_ball(4*N, scale1, move1)\n",
    "\n",
    "geo_type = np.random.randint(low=0, high=2)\n",
    "rotation_axis2 = np.random.normal(size=3)\n",
    "rotation_axis2 = rotation_axis2 / np.linalg.norm(rotation_axis2)\n",
    "rad2 = np.random.uniform(low=-np.pi, high=np.pi)\n",
    "R2 = rotation_matrix(rotation_axis2, rad2)\n",
    "scale2 = np.random.uniform(low=0.5, high=1.5)\n",
    "move_d2 = np.random.normal(size=3)\n",
    "move_d2 = move_d2 / np.linalg.norm(move_d2) * pert_ratio\n",
    "move_d2 = move_d1 + move_d2\n",
    "move_d2 = move_d2 / np.linalg.norm(move_d2)\n",
    "move_s2 = np.random.uniform(low=move_s1-scale1, high=move_s1+scale1)\n",
    "move2 = move_d2 * move_s2\n",
    "if geo_type == 0:\n",
    "    P2 = generate_cube(N, scale2, move2, R2)\n",
    "    P2_solid = generate_solid_cube(4*N, scale2, move2, R2)\n",
    "else:\n",
    "    P2 = generate_ball(N, scale2, move2)\n",
    "    P2_solid = generate_solid_ball(4*N, scale2, move2)\n",
    "\n",
    "#visualize([P1, P2, P1_solid, P2_solid])\n",
    "\n",
    "\n",
    "#pc1 = klampt.PointCloud()\n",
    "#pc1.setPoints(4*N, P1_solid.T.flatten())\n",
    "#pc2 = klampt.PointCloud()\n",
    "#pc2.setPoints(4*N, P2_solid.T.flatten())\n",
    "\n",
    "pc1 = pd.DataFrame(P1.T)\n",
    "pc1.columns = ['x', 'y', 'z']\n",
    "pc2 = pd.DataFrame(P2.T)\n",
    "pc2.columns = ['x', 'y', 'z']\n",
    "pc1 = PyntCloud(pc1)\n",
    "pc2 = PyntCloud(pc2)\n",
    "pc1.plot()\n",
    "#pc1 = klampt.TriangleMesh()\n",
    "#pc2 = klampt.TriangleMesh()\n",
    "#for p in P1.T.flatten():\n",
    "#    pc1.vertices.append(p)\n",
    "#for p in P2.T.flatten():\n",
    "#    pc2.vertices.append(p)\n",
    "\n",
    "#geo1 = klampt.Geometry3D(pc1)\n",
    "#geo2 = klampt.Geometry3D(pc2)\n",
    "#geo1 = geo1.convert('TriangleMesh')\n",
    "#geo2 = geo2.convert('TriangleMesh')\n",
    "#print(geo1.collides(geo2))\n",
    "\n",
    "def setup():\n",
    "  klvis.show()\n",
    "\n",
    "def callback():\n",
    "  #...do stuff to world... #this code is executed at approximately 10 Hz due to the sleep call\n",
    "  time.sleep(0.1)\n",
    "  if False:\n",
    "    klvis.show(False)         #hides the window if not closed by user\n",
    "\n",
    "def cleanup():\n",
    "  #can perform optional cleanup code here\n",
    "  pass\n",
    "#geo1.drawGL()\n",
    "#app = klampt.Appearance()\n",
    "#app.drawGL(geo1)\n",
    "#klvis.add('geo1',geo1)\n",
    "#klvis.add('geo2',geo2)\n",
    "#klvis.loop(setup=setup,callback=callback,cleanup=cleanup)\n",
    "\n",
    "# ******generate collision-free data******\n"
   ]
  }
 ],
 "metadata": {
  "kernelspec": {
   "display_name": "Python 3",
   "language": "python",
   "name": "python3"
  },
  "language_info": {
   "codemirror_mode": {
    "name": "ipython",
    "version": 3
   },
   "file_extension": ".py",
   "mimetype": "text/x-python",
   "name": "python",
   "nbconvert_exporter": "python",
   "pygments_lexer": "ipython3",
   "version": "3.5.2"
  }
 },
 "nbformat": 4,
 "nbformat_minor": 2
}
